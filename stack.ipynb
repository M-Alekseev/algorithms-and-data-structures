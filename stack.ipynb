{
 "cells": [
  {
   "cell_type": "code",
   "execution_count": 6,
   "metadata": {},
   "outputs": [
    {
     "name": "stdout",
     "output_type": "stream",
     "text": [
      "True\n",
      "4\n",
      "23\n"
     ]
    }
   ],
   "source": [
    "class Stack():\n",
    "    def __init__(self):\n",
    "        self.stack = []\n",
    "        \n",
    "    def is_empty(self):\n",
    "        return self.stack == []\n",
    "    \n",
    "    def s_add(self, data):\n",
    "        self.stack.append(data)\n",
    "        \n",
    "    def s_pop(self):\n",
    "        return self.stack.pop()\n",
    "    \n",
    "    def s_size(self):\n",
    "        return len(self.stack)\n",
    "    \n",
    "\n",
    "if __name__ == '__main__':\n",
    "    p = Stack()\n",
    "\n",
    "    print(p.is_empty())\n",
    "\n",
    "    p.s_add(2)\n",
    "    p.s_add('lol')\n",
    "    p.s_add('eleven')\n",
    "    p.s_add(23)\n",
    "\n",
    "    print(p.s_size())\n",
    "\n",
    "    print(p.s_pop())\n"
   ]
  }
 ],
 "metadata": {
  "kernelspec": {
   "display_name": "Python 3",
   "language": "python",
   "name": "python3"
  },
  "language_info": {
   "codemirror_mode": {
    "name": "ipython",
    "version": 3
   },
   "file_extension": ".py",
   "mimetype": "text/x-python",
   "name": "python",
   "nbconvert_exporter": "python",
   "pygments_lexer": "ipython3",
   "version": "3.6.3"
  }
 },
 "nbformat": 4,
 "nbformat_minor": 2
}
