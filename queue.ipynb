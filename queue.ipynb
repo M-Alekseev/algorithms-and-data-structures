{
 "cells": [
  {
   "cell_type": "code",
   "execution_count": 20,
   "metadata": {},
   "outputs": [
    {
     "name": "stdout",
     "output_type": "stream",
     "text": [
      "False\n",
      "4\n",
      "False\n",
      "3\n",
      "Queue: \n",
      "7 string 15 "
     ]
    }
   ],
   "source": [
    "class Queue():\n",
    "    def __init__(self):\n",
    "        # initialization with an empty queue\n",
    "        self.queue = []\n",
    "        \n",
    "    def is_empty(self):\n",
    "        # returns true/false\n",
    "        return self.queue == []\n",
    "    \n",
    "    def q_add(self, data):\n",
    "        # inserts data as first element\n",
    "        self.queue.insert(0, data)\n",
    "        \n",
    "    def q_pop(self):\n",
    "        # returns and deletes last element from the queue\n",
    "        return self.queue.pop()\n",
    "    \n",
    "    def q_size(self):\n",
    "        return len(self.queue)\n",
    "    \n",
    "    def q_print(self):\n",
    "        print(\"Queue: \")\n",
    "        for item in self.queue:\n",
    "            print(item, end=\" \")\n",
    "    \n",
    "p = Queue()\n",
    "\n",
    "p.q_add(1)\n",
    "p.q_add(15)\n",
    "p.q_add('string')\n",
    "p.q_add(7)\n",
    "\n",
    "print(p.is_empty())\n",
    "print(p.q_size())\n",
    "\n",
    "p.q_pop()\n",
    "\n",
    "print(p.is_empty())\n",
    "print(p.q_size())\n",
    "\n",
    "p.q_print()"
   ]
  }
 ],
 "metadata": {
  "kernelspec": {
   "display_name": "Python 3",
   "language": "python",
   "name": "python3"
  },
  "language_info": {
   "codemirror_mode": {
    "name": "ipython",
    "version": 3
   },
   "file_extension": ".py",
   "mimetype": "text/x-python",
   "name": "python",
   "nbconvert_exporter": "python",
   "pygments_lexer": "ipython3",
   "version": "3.6.3"
  }
 },
 "nbformat": 4,
 "nbformat_minor": 2
}
