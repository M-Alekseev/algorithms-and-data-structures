{
 "cells": [
  {
   "cell_type": "code",
   "execution_count": 4,
   "metadata": {},
   "outputs": [
    {
     "name": "stdout",
     "output_type": "stream",
     "text": [
      "[-11, -4, 1, 3, 4, 5, 12, 56, 63, 234]\n"
     ]
    }
   ],
   "source": [
    "def selection_sort(lst):\n",
    "    for i in range(len(lst)):\n",
    "        idx = i\n",
    "        for j in range(i + 1, len(lst), 1):\n",
    "            if lst[j] < lst[idx]:\n",
    "                idx = j\n",
    "        if idx != i:\n",
    "            lst[i], lst[idx] = lst[idx], lst[i]\n",
    "            \n",
    "    return lst\n",
    "            \n",
    "if __name__ == \"__main__\":\n",
    "    lst = [-4, 56, 1, 3, 5, 63, 12, 4, -11, 234]\n",
    "    print(selection_sort(lst))"
   ]
  }
 ],
 "metadata": {
  "kernelspec": {
   "display_name": "Python 3",
   "language": "python",
   "name": "python3"
  },
  "language_info": {
   "codemirror_mode": {
    "name": "ipython",
    "version": 3
   },
   "file_extension": ".py",
   "mimetype": "text/x-python",
   "name": "python",
   "nbconvert_exporter": "python",
   "pygments_lexer": "ipython3",
   "version": "3.6.3"
  }
 },
 "nbformat": 4,
 "nbformat_minor": 2
}
